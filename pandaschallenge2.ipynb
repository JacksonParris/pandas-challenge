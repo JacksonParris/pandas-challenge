{
 "cells": [
  {
   "cell_type": "code",
   "execution_count": 2,
   "id": "319884d0",
   "metadata": {
    "scrolled": true
   },
   "outputs": [
    {
     "data": {
      "text/html": [
       "<div>\n",
       "<style scoped>\n",
       "    .dataframe tbody tr th:only-of-type {\n",
       "        vertical-align: middle;\n",
       "    }\n",
       "\n",
       "    .dataframe tbody tr th {\n",
       "        vertical-align: top;\n",
       "    }\n",
       "\n",
       "    .dataframe thead th {\n",
       "        text-align: right;\n",
       "    }\n",
       "</style>\n",
       "<table border=\"1\" class=\"dataframe\">\n",
       "  <thead>\n",
       "    <tr style=\"text-align: right;\">\n",
       "      <th></th>\n",
       "      <th>Student ID</th>\n",
       "      <th>student_name</th>\n",
       "      <th>gender</th>\n",
       "      <th>grade</th>\n",
       "      <th>school_name</th>\n",
       "      <th>reading_score</th>\n",
       "      <th>math_score</th>\n",
       "      <th>School ID</th>\n",
       "      <th>type</th>\n",
       "      <th>size</th>\n",
       "      <th>budget</th>\n",
       "    </tr>\n",
       "  </thead>\n",
       "  <tbody>\n",
       "    <tr>\n",
       "      <th>0</th>\n",
       "      <td>0</td>\n",
       "      <td>Paul Bradley</td>\n",
       "      <td>M</td>\n",
       "      <td>9th</td>\n",
       "      <td>Huang High School</td>\n",
       "      <td>66</td>\n",
       "      <td>79</td>\n",
       "      <td>0</td>\n",
       "      <td>District</td>\n",
       "      <td>2917</td>\n",
       "      <td>1910635</td>\n",
       "    </tr>\n",
       "    <tr>\n",
       "      <th>1</th>\n",
       "      <td>1</td>\n",
       "      <td>Victor Smith</td>\n",
       "      <td>M</td>\n",
       "      <td>12th</td>\n",
       "      <td>Huang High School</td>\n",
       "      <td>94</td>\n",
       "      <td>61</td>\n",
       "      <td>0</td>\n",
       "      <td>District</td>\n",
       "      <td>2917</td>\n",
       "      <td>1910635</td>\n",
       "    </tr>\n",
       "    <tr>\n",
       "      <th>2</th>\n",
       "      <td>2</td>\n",
       "      <td>Kevin Rodriguez</td>\n",
       "      <td>M</td>\n",
       "      <td>12th</td>\n",
       "      <td>Huang High School</td>\n",
       "      <td>90</td>\n",
       "      <td>60</td>\n",
       "      <td>0</td>\n",
       "      <td>District</td>\n",
       "      <td>2917</td>\n",
       "      <td>1910635</td>\n",
       "    </tr>\n",
       "    <tr>\n",
       "      <th>3</th>\n",
       "      <td>3</td>\n",
       "      <td>Dr. Richard Scott</td>\n",
       "      <td>M</td>\n",
       "      <td>12th</td>\n",
       "      <td>Huang High School</td>\n",
       "      <td>67</td>\n",
       "      <td>58</td>\n",
       "      <td>0</td>\n",
       "      <td>District</td>\n",
       "      <td>2917</td>\n",
       "      <td>1910635</td>\n",
       "    </tr>\n",
       "    <tr>\n",
       "      <th>4</th>\n",
       "      <td>4</td>\n",
       "      <td>Bonnie Ray</td>\n",
       "      <td>F</td>\n",
       "      <td>9th</td>\n",
       "      <td>Huang High School</td>\n",
       "      <td>97</td>\n",
       "      <td>84</td>\n",
       "      <td>0</td>\n",
       "      <td>District</td>\n",
       "      <td>2917</td>\n",
       "      <td>1910635</td>\n",
       "    </tr>\n",
       "  </tbody>\n",
       "</table>\n",
       "</div>"
      ],
      "text/plain": [
       "   Student ID       student_name gender grade        school_name  \\\n",
       "0           0       Paul Bradley      M   9th  Huang High School   \n",
       "1           1       Victor Smith      M  12th  Huang High School   \n",
       "2           2    Kevin Rodriguez      M  12th  Huang High School   \n",
       "3           3  Dr. Richard Scott      M  12th  Huang High School   \n",
       "4           4         Bonnie Ray      F   9th  Huang High School   \n",
       "\n",
       "   reading_score  math_score  School ID      type  size   budget  \n",
       "0             66          79          0  District  2917  1910635  \n",
       "1             94          61          0  District  2917  1910635  \n",
       "2             90          60          0  District  2917  1910635  \n",
       "3             67          58          0  District  2917  1910635  \n",
       "4             97          84          0  District  2917  1910635  "
      ]
     },
     "execution_count": 2,
     "metadata": {},
     "output_type": "execute_result"
    }
   ],
   "source": [
    "import pandas as pd \n",
    "schoolsdf = pd.read_csv(\"schools_complete.csv\")\n",
    "studentsdf = pd.read_csv(\"students_complete.csv\")\n",
    "#setting up combined data frame\n",
    "schooldata = pd.merge(studentsdf, schoolsdf, how=\"left\", on=[\"school_name\", \"school_name\"])\n",
    "schooldata.head()"
   ]
  },
  {
   "cell_type": "code",
   "execution_count": 3,
   "id": "a0c6d2d8",
   "metadata": {},
   "outputs": [
    {
     "data": {
      "text/plain": [
       "15"
      ]
     },
     "execution_count": 3,
     "metadata": {},
     "output_type": "execute_result"
    }
   ],
   "source": [
    "#calculate the total # of unique schools \n",
    "schoolcount = schooldata[\"school_name\"].unique()\n",
    "len(schoolcount)"
   ]
  },
  {
   "cell_type": "code",
   "execution_count": 4,
   "id": "1c58dab4",
   "metadata": {},
   "outputs": [
    {
     "data": {
      "text/plain": [
       "39170"
      ]
     },
     "execution_count": 4,
     "metadata": {},
     "output_type": "execute_result"
    }
   ],
   "source": [
    "#calculate the total # of students \n",
    "studentcount = schooldata[\"Student ID\"].count()\n",
    "studentcount"
   ]
  },
  {
   "cell_type": "code",
   "execution_count": 5,
   "id": "286a093e",
   "metadata": {},
   "outputs": [
    {
     "data": {
      "text/plain": [
       "24649428"
      ]
     },
     "execution_count": 5,
     "metadata": {},
     "output_type": "execute_result"
    }
   ],
   "source": [
    "#calculate the total budget \n",
    "budgetamount = schooldata[\"budget\"].unique()\n",
    "budgetamount.sum()"
   ]
  },
  {
   "cell_type": "code",
   "execution_count": 6,
   "id": "ce3266bc",
   "metadata": {},
   "outputs": [
    {
     "data": {
      "text/plain": [
       "78.98537145774827"
      ]
     },
     "execution_count": 6,
     "metadata": {},
     "output_type": "execute_result"
    }
   ],
   "source": [
    "#calculate average math scores \n",
    "avgmath = schooldata[\"math_score\"].mean()\n",
    "avgmath"
   ]
  },
  {
   "cell_type": "code",
   "execution_count": 7,
   "id": "cd17ddd5",
   "metadata": {},
   "outputs": [
    {
     "data": {
      "text/plain": [
       "81.87784018381414"
      ]
     },
     "execution_count": 7,
     "metadata": {},
     "output_type": "execute_result"
    }
   ],
   "source": [
    "#calculate average reading scores\n",
    "avgreading = schooldata[\"reading_score\"].mean()\n",
    "avgreading"
   ]
  },
  {
   "cell_type": "code",
   "execution_count": 8,
   "id": "c24499a0",
   "metadata": {},
   "outputs": [
    {
     "data": {
      "text/plain": [
       "74.9808526933878"
      ]
     },
     "execution_count": 8,
     "metadata": {},
     "output_type": "execute_result"
    }
   ],
   "source": [
    "#calculate the percent of students passing math \n",
    "passingmathcount = schooldata[(schooldata[\"math_score\"]>= 70)].count()[\"student_name\"]\n",
    "percentpassing_m = passingmathcount / float(studentcount) * 100\n",
    "percentpassing_m"
   ]
  },
  {
   "cell_type": "code",
   "execution_count": 9,
   "id": "f4724abd",
   "metadata": {},
   "outputs": [
    {
     "data": {
      "text/plain": [
       "85.80546336482001"
      ]
     },
     "execution_count": 9,
     "metadata": {},
     "output_type": "execute_result"
    }
   ],
   "source": [
    "#calculate the percent of students passing reading\n",
    "passingreadingcount = schooldata[(schooldata[\"reading_score\"]>= 70)].count()[\"student_name\"]\n",
    "percentpassing_r = passingreadingcount / float(studentcount) * 100\n",
    "percentpassing_r"
   ]
  },
  {
   "cell_type": "code",
   "execution_count": 10,
   "id": "6e162bfa",
   "metadata": {},
   "outputs": [
    {
     "data": {
      "text/plain": [
       "65.17232575950983"
      ]
     },
     "execution_count": 10,
     "metadata": {},
     "output_type": "execute_result"
    }
   ],
   "source": [
    "#calculating the students that passed math and reading \n",
    "passingbothcount = schooldata[(schooldata[\"math_score\"] >= 70) & (schooldata[\"reading_score\"] >= 70)].count()[\"student_name\"]\n",
    "overallpassingboth = passingbothcount / float(studentcount) * 100\n",
    "overallpassingboth"
   ]
  },
  {
   "cell_type": "code",
   "execution_count": 11,
   "id": "46f7bae3",
   "metadata": {
    "scrolled": true
   },
   "outputs": [
    {
     "data": {
      "text/html": [
       "<div>\n",
       "<style scoped>\n",
       "    .dataframe tbody tr th:only-of-type {\n",
       "        vertical-align: middle;\n",
       "    }\n",
       "\n",
       "    .dataframe tbody tr th {\n",
       "        vertical-align: top;\n",
       "    }\n",
       "\n",
       "    .dataframe thead th {\n",
       "        text-align: right;\n",
       "    }\n",
       "</style>\n",
       "<table border=\"1\" class=\"dataframe\">\n",
       "  <thead>\n",
       "    <tr style=\"text-align: right;\">\n",
       "      <th></th>\n",
       "      <th>Total schools</th>\n",
       "      <th>Total students</th>\n",
       "      <th>Total budget</th>\n",
       "      <th>Average math score</th>\n",
       "      <th>Average reading score</th>\n",
       "      <th>Percent passing math</th>\n",
       "      <th>Percent passing reading</th>\n",
       "      <th>Math/Reading passing rate</th>\n",
       "    </tr>\n",
       "  </thead>\n",
       "  <tbody>\n",
       "    <tr>\n",
       "      <th>0</th>\n",
       "      <td>15</td>\n",
       "      <td>39170</td>\n",
       "      <td>24649428</td>\n",
       "      <td>78.985371</td>\n",
       "      <td>81.87784</td>\n",
       "      <td>74.980853</td>\n",
       "      <td>85.805463</td>\n",
       "      <td>65.172326</td>\n",
       "    </tr>\n",
       "  </tbody>\n",
       "</table>\n",
       "</div>"
      ],
      "text/plain": [
       "   Total schools  Total students  Total budget  Average math score  \\\n",
       "0             15           39170      24649428           78.985371   \n",
       "\n",
       "   Average reading score  Percent passing math  Percent passing reading  \\\n",
       "0               81.87784             74.980853                85.805463   \n",
       "\n",
       "   Math/Reading passing rate  \n",
       "0                  65.172326  "
      ]
     },
     "execution_count": 11,
     "metadata": {},
     "output_type": "execute_result"
    }
   ],
   "source": [
    "#creating a \"high level\" snapshot of the data \n",
    "districtsummary = pd.DataFrame({\"Total schools\":len(schoolcount), \"Total students\": studentcount, \"Total budget\": budgetamount.sum(), \"Average math score\": avgmath, \"Average reading score\": avgreading, \"Percent passing math\": percentpassing_m, \"Percent passing reading\": percentpassing_r, \"Math/Reading passing rate\": overallpassingboth}, index=[0])\n",
    "#districtsummary[\"Total Students\"] = districtsummary[\"Total Students\"].map(\"{:,}\".format)\n",
    "#districtsummary[\"Total Budget\"] = districtsummary[\"Total Budget\"].map(\"${:,.2f}\".format)\n",
    "districtsummary "
   ]
  },
  {
   "cell_type": "code",
   "execution_count": 12,
   "id": "610ebdaf",
   "metadata": {},
   "outputs": [],
   "source": [
    "# SCHOOL SUMMARY\n",
    "schooltypes = schooldata.set_index([\"school_name\"])[\"type\"]"
   ]
  },
  {
   "cell_type": "code",
   "execution_count": 13,
   "id": "aea87885",
   "metadata": {},
   "outputs": [],
   "source": [
    "#calculate the total student count\n",
    "perschoolcount = schooldata.groupby([\"school_name\"]).count()[\"student_name\"]\n",
    "#perschoolcount"
   ]
  },
  {
   "cell_type": "code",
   "execution_count": 14,
   "id": "1bf0c8d7",
   "metadata": {},
   "outputs": [],
   "source": [
    "#calculate the total school budget and per capita spending \n",
    "perschoolbudget = schooldata.groupby([\"school_name\"]).mean()[\"budget\"]\n",
    "perschoolcapita = perschoolbudget / perschoolcount\n",
    "#perschoolcapita"
   ]
  },
  {
   "cell_type": "code",
   "execution_count": 15,
   "id": "97994d28",
   "metadata": {},
   "outputs": [],
   "source": [
    "#calculate the averge test scores \n",
    "perschool_m = schooldata.groupby([\"school_name\"]).mean()[\"math_score\"]\n",
    "perschool_r = schooldata.groupby([\"school_name\"]).mean()[\"reading_score\"]\n",
    "#perschool_m\n",
    "#perschool_r"
   ]
  },
  {
   "cell_type": "code",
   "execution_count": 50,
   "id": "068ac8b3",
   "metadata": {},
   "outputs": [],
   "source": [
    "#calculate the # of schools with passing math/reading scores\n",
    "#schoolpassing_m = schooldata[(schooldata[\"math_score\"]>=70)]\n",
    "#schoolpassing_m\n",
    "#schoolpassing_r = schooldata([schooldata]).count()[\"reading_score\"]>=70\n",
    "#schoolpassing_r.count()"
   ]
  },
  {
   "cell_type": "code",
   "execution_count": 17,
   "id": "d9244a1b",
   "metadata": {},
   "outputs": [],
   "source": [
    "#Total schools passing math and reading\n",
    "schoolpassing_b = (schooldata.groupby([\"school_name\"]).count()[\"math_score\"]>= 70) & (schooldata.groupby([\"school_name\"]).count()[\"reading_score\"]>= 70)\n",
    "#schoolpassing_b.count()"
   ]
  },
  {
   "cell_type": "code",
   "execution_count": 22,
   "id": "7ac75673",
   "metadata": {},
   "outputs": [],
   "source": [
    "#calculating the passing rates \n",
    "#perschoolpassing_m = schoolpassing_m.groupby([\"school_name\"]).count()[\"student_name\"] / perschoolcount * 100\n",
    "#perschoolpassing_m\n",
    "#perschoolpassing_r = schoolpassing_r.groupby([\"school_name\"]).count() / perschoolcount * 100"
   ]
  },
  {
   "cell_type": "code",
   "execution_count": 33,
   "id": "ab20efd1",
   "metadata": {},
   "outputs": [],
   "source": [
    "#perschoolsummary = pd.DataFrame({\"Type\": schooltypes, \"Student Count\": perschoolcount, \"School budget\": perschoolbudget, \"Budget per student\": perschoolcapita, \"Average math score\": perschool_m, \"Average reading score\": perschool_r}, index=[0])\n",
    "#perschoolsummary.head"
   ]
  },
  {
   "cell_type": "code",
   "execution_count": 38,
   "id": "1db3aecf",
   "metadata": {},
   "outputs": [],
   "source": [
    "#sort the schools by over all passing %\n",
    "#highestscoring = schooldata.sort_values((perpassing_m, perpassing_r), ascending=True)\n",
    "#highestscoring.head(5)"
   ]
  },
  {
   "cell_type": "code",
   "execution_count": 39,
   "id": "74f1b842",
   "metadata": {},
   "outputs": [],
   "source": [
    "#sort the schools by overall passing % in decending order \n",
    "#highestscoring = schooldata.sort_values((perpassing_m, perpassing_r), ascending=false)\n",
    "#highestscoring.tail(5)"
   ]
  },
  {
   "cell_type": "code",
   "execution_count": 42,
   "id": "f99bb6e9",
   "metadata": {},
   "outputs": [],
   "source": [
    "# Total grades per grade level \n",
    "ninth_graders=schooldata[(schooldata[\"grade\"]==\"9th\")]\n",
    "tenth_graders=schooldata[(schooldata[\"grade\"]==\"10th\")]\n",
    "eleventh_graders=schooldata[(schooldata[\"grade\"]==\"11th\")]\n",
    "twelfth_graders=schooldata[(schooldata[\"grade\"]==\"12th\")]\n"
   ]
  },
  {
   "cell_type": "code",
   "execution_count": null,
   "id": "7396928a",
   "metadata": {},
   "outputs": [],
   "source": [
    "#group by schoolname\n",
    "ninth_graders_scores=schooldata.groupby([\"schooldata\"]).mean()"
   ]
  }
 ],
 "metadata": {
  "kernelspec": {
   "display_name": "Python 3 (ipykernel)",
   "language": "python",
   "name": "python3"
  },
  "language_info": {
   "codemirror_mode": {
    "name": "ipython",
    "version": 3
   },
   "file_extension": ".py",
   "mimetype": "text/x-python",
   "name": "python",
   "nbconvert_exporter": "python",
   "pygments_lexer": "ipython3",
   "version": "3.9.12"
  }
 },
 "nbformat": 4,
 "nbformat_minor": 5
}
